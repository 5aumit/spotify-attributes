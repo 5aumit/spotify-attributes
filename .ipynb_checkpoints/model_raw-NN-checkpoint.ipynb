{
 "cells": [
  {
   "cell_type": "code",
   "execution_count": 1,
   "metadata": {
    "scrolled": true
   },
   "outputs": [],
   "source": [
    "import pandas as pd\n",
    "import numpy as np\n",
    "import matplotlib.pyplot as plt\n",
    "import seaborn as sns\n",
    "import warnings\n",
    "warnings.filterwarnings(\"ignore\")\n",
    "\n",
    "%matplotlib inline"
   ]
  },
  {
   "cell_type": "markdown",
   "metadata": {},
   "source": [
    "Import dataset"
   ]
  },
  {
   "cell_type": "code",
   "execution_count": 2,
   "metadata": {},
   "outputs": [],
   "source": [
    "df = pd.read_csv('data_1.csv')"
   ]
  },
  {
   "cell_type": "code",
   "execution_count": 3,
   "metadata": {},
   "outputs": [
    {
     "data": {
      "text/html": [
       "<div>\n",
       "<style scoped>\n",
       "    .dataframe tbody tr th:only-of-type {\n",
       "        vertical-align: middle;\n",
       "    }\n",
       "\n",
       "    .dataframe tbody tr th {\n",
       "        vertical-align: top;\n",
       "    }\n",
       "\n",
       "    .dataframe thead th {\n",
       "        text-align: right;\n",
       "    }\n",
       "</style>\n",
       "<table border=\"1\" class=\"dataframe\">\n",
       "  <thead>\n",
       "    <tr style=\"text-align: right;\">\n",
       "      <th></th>\n",
       "      <th>Unnamed: 0</th>\n",
       "      <th>acousticness</th>\n",
       "      <th>danceability</th>\n",
       "      <th>duration_ms</th>\n",
       "      <th>energy</th>\n",
       "      <th>instrumentalness</th>\n",
       "      <th>key</th>\n",
       "      <th>liveness</th>\n",
       "      <th>mode</th>\n",
       "      <th>speechiness</th>\n",
       "      <th>tempo</th>\n",
       "      <th>valence</th>\n",
       "      <th>target</th>\n",
       "    </tr>\n",
       "  </thead>\n",
       "  <tbody>\n",
       "    <tr>\n",
       "      <th>0</th>\n",
       "      <td>0</td>\n",
       "      <td>0.0102</td>\n",
       "      <td>0.833</td>\n",
       "      <td>204600</td>\n",
       "      <td>0.434</td>\n",
       "      <td>0.021900</td>\n",
       "      <td>2</td>\n",
       "      <td>0.1650</td>\n",
       "      <td>1</td>\n",
       "      <td>0.4310</td>\n",
       "      <td>150.062</td>\n",
       "      <td>0.286</td>\n",
       "      <td>1</td>\n",
       "    </tr>\n",
       "    <tr>\n",
       "      <th>1</th>\n",
       "      <td>1</td>\n",
       "      <td>0.1990</td>\n",
       "      <td>0.743</td>\n",
       "      <td>326933</td>\n",
       "      <td>0.359</td>\n",
       "      <td>0.006110</td>\n",
       "      <td>1</td>\n",
       "      <td>0.1370</td>\n",
       "      <td>1</td>\n",
       "      <td>0.0794</td>\n",
       "      <td>160.083</td>\n",
       "      <td>0.588</td>\n",
       "      <td>1</td>\n",
       "    </tr>\n",
       "    <tr>\n",
       "      <th>2</th>\n",
       "      <td>2</td>\n",
       "      <td>0.0344</td>\n",
       "      <td>0.838</td>\n",
       "      <td>185707</td>\n",
       "      <td>0.412</td>\n",
       "      <td>0.000234</td>\n",
       "      <td>2</td>\n",
       "      <td>0.1590</td>\n",
       "      <td>1</td>\n",
       "      <td>0.2890</td>\n",
       "      <td>75.044</td>\n",
       "      <td>0.173</td>\n",
       "      <td>1</td>\n",
       "    </tr>\n",
       "    <tr>\n",
       "      <th>3</th>\n",
       "      <td>3</td>\n",
       "      <td>0.6040</td>\n",
       "      <td>0.494</td>\n",
       "      <td>199413</td>\n",
       "      <td>0.338</td>\n",
       "      <td>0.510000</td>\n",
       "      <td>5</td>\n",
       "      <td>0.0922</td>\n",
       "      <td>1</td>\n",
       "      <td>0.0261</td>\n",
       "      <td>86.468</td>\n",
       "      <td>0.230</td>\n",
       "      <td>1</td>\n",
       "    </tr>\n",
       "    <tr>\n",
       "      <th>4</th>\n",
       "      <td>4</td>\n",
       "      <td>0.1800</td>\n",
       "      <td>0.678</td>\n",
       "      <td>392893</td>\n",
       "      <td>0.561</td>\n",
       "      <td>0.512000</td>\n",
       "      <td>5</td>\n",
       "      <td>0.4390</td>\n",
       "      <td>0</td>\n",
       "      <td>0.0694</td>\n",
       "      <td>174.004</td>\n",
       "      <td>0.904</td>\n",
       "      <td>1</td>\n",
       "    </tr>\n",
       "  </tbody>\n",
       "</table>\n",
       "</div>"
      ],
      "text/plain": [
       "   Unnamed: 0  acousticness  danceability  duration_ms  energy  \\\n",
       "0           0        0.0102         0.833       204600   0.434   \n",
       "1           1        0.1990         0.743       326933   0.359   \n",
       "2           2        0.0344         0.838       185707   0.412   \n",
       "3           3        0.6040         0.494       199413   0.338   \n",
       "4           4        0.1800         0.678       392893   0.561   \n",
       "\n",
       "   instrumentalness  key  liveness  mode  speechiness    tempo  valence  \\\n",
       "0          0.021900    2    0.1650     1       0.4310  150.062    0.286   \n",
       "1          0.006110    1    0.1370     1       0.0794  160.083    0.588   \n",
       "2          0.000234    2    0.1590     1       0.2890   75.044    0.173   \n",
       "3          0.510000    5    0.0922     1       0.0261   86.468    0.230   \n",
       "4          0.512000    5    0.4390     0       0.0694  174.004    0.904   \n",
       "\n",
       "   target  \n",
       "0       1  \n",
       "1       1  \n",
       "2       1  \n",
       "3       1  \n",
       "4       1  "
      ]
     },
     "execution_count": 3,
     "metadata": {},
     "output_type": "execute_result"
    }
   ],
   "source": [
    "df.head()"
   ]
  },
  {
   "cell_type": "code",
   "execution_count": 4,
   "metadata": {},
   "outputs": [
    {
     "data": {
      "text/html": [
       "<div>\n",
       "<style scoped>\n",
       "    .dataframe tbody tr th:only-of-type {\n",
       "        vertical-align: middle;\n",
       "    }\n",
       "\n",
       "    .dataframe tbody tr th {\n",
       "        vertical-align: top;\n",
       "    }\n",
       "\n",
       "    .dataframe thead th {\n",
       "        text-align: right;\n",
       "    }\n",
       "</style>\n",
       "<table border=\"1\" class=\"dataframe\">\n",
       "  <thead>\n",
       "    <tr style=\"text-align: right;\">\n",
       "      <th></th>\n",
       "      <th>acousticness</th>\n",
       "      <th>danceability</th>\n",
       "      <th>duration_ms</th>\n",
       "      <th>energy</th>\n",
       "      <th>instrumentalness</th>\n",
       "      <th>key</th>\n",
       "      <th>liveness</th>\n",
       "      <th>mode</th>\n",
       "      <th>speechiness</th>\n",
       "      <th>tempo</th>\n",
       "      <th>valence</th>\n",
       "      <th>target</th>\n",
       "    </tr>\n",
       "  </thead>\n",
       "  <tbody>\n",
       "    <tr>\n",
       "      <th>0</th>\n",
       "      <td>0.0102</td>\n",
       "      <td>0.833</td>\n",
       "      <td>204600</td>\n",
       "      <td>0.434</td>\n",
       "      <td>0.021900</td>\n",
       "      <td>2</td>\n",
       "      <td>0.1650</td>\n",
       "      <td>1</td>\n",
       "      <td>0.4310</td>\n",
       "      <td>150.062</td>\n",
       "      <td>0.286</td>\n",
       "      <td>1</td>\n",
       "    </tr>\n",
       "    <tr>\n",
       "      <th>1</th>\n",
       "      <td>0.1990</td>\n",
       "      <td>0.743</td>\n",
       "      <td>326933</td>\n",
       "      <td>0.359</td>\n",
       "      <td>0.006110</td>\n",
       "      <td>1</td>\n",
       "      <td>0.1370</td>\n",
       "      <td>1</td>\n",
       "      <td>0.0794</td>\n",
       "      <td>160.083</td>\n",
       "      <td>0.588</td>\n",
       "      <td>1</td>\n",
       "    </tr>\n",
       "    <tr>\n",
       "      <th>2</th>\n",
       "      <td>0.0344</td>\n",
       "      <td>0.838</td>\n",
       "      <td>185707</td>\n",
       "      <td>0.412</td>\n",
       "      <td>0.000234</td>\n",
       "      <td>2</td>\n",
       "      <td>0.1590</td>\n",
       "      <td>1</td>\n",
       "      <td>0.2890</td>\n",
       "      <td>75.044</td>\n",
       "      <td>0.173</td>\n",
       "      <td>1</td>\n",
       "    </tr>\n",
       "    <tr>\n",
       "      <th>3</th>\n",
       "      <td>0.6040</td>\n",
       "      <td>0.494</td>\n",
       "      <td>199413</td>\n",
       "      <td>0.338</td>\n",
       "      <td>0.510000</td>\n",
       "      <td>5</td>\n",
       "      <td>0.0922</td>\n",
       "      <td>1</td>\n",
       "      <td>0.0261</td>\n",
       "      <td>86.468</td>\n",
       "      <td>0.230</td>\n",
       "      <td>1</td>\n",
       "    </tr>\n",
       "    <tr>\n",
       "      <th>4</th>\n",
       "      <td>0.1800</td>\n",
       "      <td>0.678</td>\n",
       "      <td>392893</td>\n",
       "      <td>0.561</td>\n",
       "      <td>0.512000</td>\n",
       "      <td>5</td>\n",
       "      <td>0.4390</td>\n",
       "      <td>0</td>\n",
       "      <td>0.0694</td>\n",
       "      <td>174.004</td>\n",
       "      <td>0.904</td>\n",
       "      <td>1</td>\n",
       "    </tr>\n",
       "  </tbody>\n",
       "</table>\n",
       "</div>"
      ],
      "text/plain": [
       "   acousticness  danceability  duration_ms  energy  instrumentalness  key  \\\n",
       "0        0.0102         0.833       204600   0.434          0.021900    2   \n",
       "1        0.1990         0.743       326933   0.359          0.006110    1   \n",
       "2        0.0344         0.838       185707   0.412          0.000234    2   \n",
       "3        0.6040         0.494       199413   0.338          0.510000    5   \n",
       "4        0.1800         0.678       392893   0.561          0.512000    5   \n",
       "\n",
       "   liveness  mode  speechiness    tempo  valence  target  \n",
       "0    0.1650     1       0.4310  150.062    0.286       1  \n",
       "1    0.1370     1       0.0794  160.083    0.588       1  \n",
       "2    0.1590     1       0.2890   75.044    0.173       1  \n",
       "3    0.0922     1       0.0261   86.468    0.230       1  \n",
       "4    0.4390     0       0.0694  174.004    0.904       1  "
      ]
     },
     "execution_count": 4,
     "metadata": {},
     "output_type": "execute_result"
    }
   ],
   "source": [
    "df.drop('Unnamed: 0', axis = 1, inplace = True)\n",
    "df.head()"
   ]
  },
  {
   "cell_type": "markdown",
   "metadata": {},
   "source": [
    "Parse features and labels from data and transform to numpy arrays."
   ]
  },
  {
   "cell_type": "code",
   "execution_count": 5,
   "metadata": {},
   "outputs": [
    {
     "data": {
      "text/html": [
       "<div>\n",
       "<style scoped>\n",
       "    .dataframe tbody tr th:only-of-type {\n",
       "        vertical-align: middle;\n",
       "    }\n",
       "\n",
       "    .dataframe tbody tr th {\n",
       "        vertical-align: top;\n",
       "    }\n",
       "\n",
       "    .dataframe thead th {\n",
       "        text-align: right;\n",
       "    }\n",
       "</style>\n",
       "<table border=\"1\" class=\"dataframe\">\n",
       "  <thead>\n",
       "    <tr style=\"text-align: right;\">\n",
       "      <th></th>\n",
       "      <th>acousticness</th>\n",
       "      <th>danceability</th>\n",
       "      <th>duration_ms</th>\n",
       "      <th>energy</th>\n",
       "      <th>instrumentalness</th>\n",
       "      <th>key</th>\n",
       "      <th>liveness</th>\n",
       "      <th>mode</th>\n",
       "      <th>speechiness</th>\n",
       "      <th>tempo</th>\n",
       "      <th>valence</th>\n",
       "    </tr>\n",
       "  </thead>\n",
       "  <tbody>\n",
       "    <tr>\n",
       "      <th>0</th>\n",
       "      <td>0.0102</td>\n",
       "      <td>0.833</td>\n",
       "      <td>204600</td>\n",
       "      <td>0.434</td>\n",
       "      <td>0.021900</td>\n",
       "      <td>2</td>\n",
       "      <td>0.1650</td>\n",
       "      <td>1</td>\n",
       "      <td>0.4310</td>\n",
       "      <td>150.062</td>\n",
       "      <td>0.286</td>\n",
       "    </tr>\n",
       "    <tr>\n",
       "      <th>1</th>\n",
       "      <td>0.1990</td>\n",
       "      <td>0.743</td>\n",
       "      <td>326933</td>\n",
       "      <td>0.359</td>\n",
       "      <td>0.006110</td>\n",
       "      <td>1</td>\n",
       "      <td>0.1370</td>\n",
       "      <td>1</td>\n",
       "      <td>0.0794</td>\n",
       "      <td>160.083</td>\n",
       "      <td>0.588</td>\n",
       "    </tr>\n",
       "    <tr>\n",
       "      <th>2</th>\n",
       "      <td>0.0344</td>\n",
       "      <td>0.838</td>\n",
       "      <td>185707</td>\n",
       "      <td>0.412</td>\n",
       "      <td>0.000234</td>\n",
       "      <td>2</td>\n",
       "      <td>0.1590</td>\n",
       "      <td>1</td>\n",
       "      <td>0.2890</td>\n",
       "      <td>75.044</td>\n",
       "      <td>0.173</td>\n",
       "    </tr>\n",
       "    <tr>\n",
       "      <th>3</th>\n",
       "      <td>0.6040</td>\n",
       "      <td>0.494</td>\n",
       "      <td>199413</td>\n",
       "      <td>0.338</td>\n",
       "      <td>0.510000</td>\n",
       "      <td>5</td>\n",
       "      <td>0.0922</td>\n",
       "      <td>1</td>\n",
       "      <td>0.0261</td>\n",
       "      <td>86.468</td>\n",
       "      <td>0.230</td>\n",
       "    </tr>\n",
       "    <tr>\n",
       "      <th>4</th>\n",
       "      <td>0.1800</td>\n",
       "      <td>0.678</td>\n",
       "      <td>392893</td>\n",
       "      <td>0.561</td>\n",
       "      <td>0.512000</td>\n",
       "      <td>5</td>\n",
       "      <td>0.4390</td>\n",
       "      <td>0</td>\n",
       "      <td>0.0694</td>\n",
       "      <td>174.004</td>\n",
       "      <td>0.904</td>\n",
       "    </tr>\n",
       "  </tbody>\n",
       "</table>\n",
       "</div>"
      ],
      "text/plain": [
       "   acousticness  danceability  duration_ms  energy  instrumentalness  key  \\\n",
       "0        0.0102         0.833       204600   0.434          0.021900    2   \n",
       "1        0.1990         0.743       326933   0.359          0.006110    1   \n",
       "2        0.0344         0.838       185707   0.412          0.000234    2   \n",
       "3        0.6040         0.494       199413   0.338          0.510000    5   \n",
       "4        0.1800         0.678       392893   0.561          0.512000    5   \n",
       "\n",
       "   liveness  mode  speechiness    tempo  valence  \n",
       "0    0.1650     1       0.4310  150.062    0.286  \n",
       "1    0.1370     1       0.0794  160.083    0.588  \n",
       "2    0.1590     1       0.2890   75.044    0.173  \n",
       "3    0.0922     1       0.0261   86.468    0.230  \n",
       "4    0.4390     0       0.0694  174.004    0.904  "
      ]
     },
     "execution_count": 5,
     "metadata": {},
     "output_type": "execute_result"
    }
   ],
   "source": [
    "xtrain_df = df[df.columns[:11]]\n",
    "#xtrain_df.drop('time_signature' , axis = 1 , inplace = True)\n",
    "xtrain_df.head()"
   ]
  },
  {
   "cell_type": "code",
   "execution_count": 6,
   "metadata": {},
   "outputs": [],
   "source": [
    "x_train = xtrain_df.to_numpy()"
   ]
  },
  {
   "cell_type": "code",
   "execution_count": 7,
   "metadata": {},
   "outputs": [],
   "source": [
    "ytrain_df = df['target']"
   ]
  },
  {
   "cell_type": "code",
   "execution_count": 8,
   "metadata": {},
   "outputs": [],
   "source": [
    "y_train = ytrain_df.to_numpy()"
   ]
  },
  {
   "cell_type": "code",
   "execution_count": 9,
   "metadata": {},
   "outputs": [
    {
     "name": "stdout",
     "output_type": "stream",
     "text": [
      "Shape of x_train is: (2017, 11)\n"
     ]
    }
   ],
   "source": [
    "print('Shape of x_train is:' , x_train.shape)"
   ]
  },
  {
   "cell_type": "code",
   "execution_count": 10,
   "metadata": {},
   "outputs": [
    {
     "name": "stdout",
     "output_type": "stream",
     "text": [
      "Shape of y_train is: (2017,)\n"
     ]
    }
   ],
   "source": [
    "print('Shape of y_train is:' , y_train.shape)"
   ]
  },
  {
   "cell_type": "code",
   "execution_count": 11,
   "metadata": {},
   "outputs": [],
   "source": [
    "from sklearn.preprocessing import StandardScaler\n",
    "\n",
    "scaler = StandardScaler()\n",
    "scaler.fit(x_train)\n",
    "x_train = scaler.transform(x_train)"
   ]
  },
  {
   "cell_type": "code",
   "execution_count": 12,
   "metadata": {},
   "outputs": [
    {
     "data": {
      "text/plain": [
       "array([-0.68246675,  1.33287384, -0.50885114, -1.17770008, -0.40786448,\n",
       "       -0.91644642, -0.16629082,  0.79573763,  3.76308393,  1.06670945,\n",
       "       -0.8530387 ])"
      ]
     },
     "execution_count": 12,
     "metadata": {},
     "output_type": "execute_result"
    }
   ],
   "source": [
    "x_train[0]"
   ]
  },
  {
   "cell_type": "code",
   "execution_count": 13,
   "metadata": {},
   "outputs": [],
   "source": [
    "from sklearn.model_selection import train_test_split\n",
    "\n",
    "y_train = y_train.reshape(2017,1)\n",
    "\n",
    "X_train , X_test , Y_train , Y_test = train_test_split(x_train , y_train , test_size = 0.33 , random_state = 42)"
   ]
  },
  {
   "cell_type": "code",
   "execution_count": 14,
   "metadata": {},
   "outputs": [],
   "source": [
    "#Neural Network\n",
    "\n",
    "import tensorflow as tf"
   ]
  },
  {
   "cell_type": "code",
   "execution_count": 15,
   "metadata": {},
   "outputs": [
    {
     "data": {
      "text/plain": [
       "(1351, 11)"
      ]
     },
     "execution_count": 15,
     "metadata": {},
     "output_type": "execute_result"
    }
   ],
   "source": [
    "X_train.shape"
   ]
  },
  {
   "cell_type": "code",
   "execution_count": 73,
   "metadata": {
    "scrolled": true
   },
   "outputs": [
    {
     "name": "stdout",
     "output_type": "stream",
     "text": [
      "Train on 1351 samples, validate on 666 samples\n",
      "Epoch 1/80\n",
      "1351/1351 [==============================] - 1s 952us/sample - loss: 0.6765 - accuracy: 0.5611 - val_loss: 0.6641 - val_accuracy: 0.5946\n",
      "Epoch 2/80\n",
      "1351/1351 [==============================] - 0s 130us/sample - loss: 0.6515 - accuracy: 0.5981 - val_loss: 0.6513 - val_accuracy: 0.6096\n",
      "Epoch 3/80\n",
      "1351/1351 [==============================] - 0s 128us/sample - loss: 0.6331 - accuracy: 0.6218 - val_loss: 0.6410 - val_accuracy: 0.6231\n",
      "Epoch 4/80\n",
      "1351/1351 [==============================] - 0s 131us/sample - loss: 0.6190 - accuracy: 0.6358 - val_loss: 0.6339 - val_accuracy: 0.6306\n",
      "Epoch 5/80\n",
      "1351/1351 [==============================] - 0s 131us/sample - loss: 0.6084 - accuracy: 0.6610 - val_loss: 0.6287 - val_accuracy: 0.6336\n",
      "Epoch 6/80\n",
      "1351/1351 [==============================] - 0s 128us/sample - loss: 0.5996 - accuracy: 0.6691 - val_loss: 0.6250 - val_accuracy: 0.6381\n",
      "Epoch 7/80\n",
      "1351/1351 [==============================] - 0s 132us/sample - loss: 0.5931 - accuracy: 0.6825 - val_loss: 0.6219 - val_accuracy: 0.6411\n",
      "Epoch 8/80\n",
      "1351/1351 [==============================] - 0s 129us/sample - loss: 0.5881 - accuracy: 0.6958 - val_loss: 0.6196 - val_accuracy: 0.6351\n",
      "Epoch 9/80\n",
      "1351/1351 [==============================] - 0s 126us/sample - loss: 0.5832 - accuracy: 0.6980 - val_loss: 0.6171 - val_accuracy: 0.6411\n",
      "Epoch 10/80\n",
      "1351/1351 [==============================] - 0s 128us/sample - loss: 0.5795 - accuracy: 0.6965 - val_loss: 0.6152 - val_accuracy: 0.6426\n",
      "Epoch 11/80\n",
      "1351/1351 [==============================] - 0s 128us/sample - loss: 0.5762 - accuracy: 0.6995 - val_loss: 0.6133 - val_accuracy: 0.6532\n",
      "Epoch 12/80\n",
      "1351/1351 [==============================] - 0s 131us/sample - loss: 0.5729 - accuracy: 0.7032 - val_loss: 0.6108 - val_accuracy: 0.6577\n",
      "Epoch 13/80\n",
      "1351/1351 [==============================] - 0s 126us/sample - loss: 0.5695 - accuracy: 0.7069 - val_loss: 0.6083 - val_accuracy: 0.6577\n",
      "Epoch 14/80\n",
      "1351/1351 [==============================] - 0s 125us/sample - loss: 0.5669 - accuracy: 0.7061 - val_loss: 0.6068 - val_accuracy: 0.6547\n",
      "Epoch 15/80\n",
      "1351/1351 [==============================] - 0s 125us/sample - loss: 0.5635 - accuracy: 0.7061 - val_loss: 0.6051 - val_accuracy: 0.6652\n",
      "Epoch 16/80\n",
      "1351/1351 [==============================] - 0s 125us/sample - loss: 0.5610 - accuracy: 0.7098 - val_loss: 0.6029 - val_accuracy: 0.6712\n",
      "Epoch 17/80\n",
      "1351/1351 [==============================] - 0s 128us/sample - loss: 0.5584 - accuracy: 0.7098 - val_loss: 0.6018 - val_accuracy: 0.6727\n",
      "Epoch 18/80\n",
      "1351/1351 [==============================] - 0s 127us/sample - loss: 0.5559 - accuracy: 0.7061 - val_loss: 0.6016 - val_accuracy: 0.6697\n",
      "Epoch 19/80\n",
      "1351/1351 [==============================] - 0s 125us/sample - loss: 0.5542 - accuracy: 0.7113 - val_loss: 0.5998 - val_accuracy: 0.6802\n",
      "Epoch 20/80\n",
      "1351/1351 [==============================] - 0s 129us/sample - loss: 0.5517 - accuracy: 0.7158 - val_loss: 0.5981 - val_accuracy: 0.6817\n",
      "Epoch 21/80\n",
      "1351/1351 [==============================] - 0s 123us/sample - loss: 0.5499 - accuracy: 0.7143 - val_loss: 0.5962 - val_accuracy: 0.6787\n",
      "Epoch 22/80\n",
      "1351/1351 [==============================] - 0s 127us/sample - loss: 0.5467 - accuracy: 0.7150 - val_loss: 0.5955 - val_accuracy: 0.6817\n",
      "Epoch 23/80\n",
      "1351/1351 [==============================] - 0s 128us/sample - loss: 0.5443 - accuracy: 0.7195 - val_loss: 0.5938 - val_accuracy: 0.6832\n",
      "Epoch 24/80\n",
      "1351/1351 [==============================] - 0s 125us/sample - loss: 0.5425 - accuracy: 0.7150 - val_loss: 0.5928 - val_accuracy: 0.6802\n",
      "Epoch 25/80\n",
      "1351/1351 [==============================] - 0s 123us/sample - loss: 0.5399 - accuracy: 0.7172 - val_loss: 0.5923 - val_accuracy: 0.6817\n",
      "Epoch 26/80\n",
      "1351/1351 [==============================] - 0s 125us/sample - loss: 0.5386 - accuracy: 0.7202 - val_loss: 0.5910 - val_accuracy: 0.6817\n",
      "Epoch 27/80\n",
      "1351/1351 [==============================] - 0s 125us/sample - loss: 0.5365 - accuracy: 0.7239 - val_loss: 0.5905 - val_accuracy: 0.6847\n",
      "Epoch 28/80\n",
      "1351/1351 [==============================] - 0s 125us/sample - loss: 0.5351 - accuracy: 0.7283 - val_loss: 0.5889 - val_accuracy: 0.6877\n",
      "Epoch 29/80\n",
      "1351/1351 [==============================] - 0s 126us/sample - loss: 0.5321 - accuracy: 0.7298 - val_loss: 0.5886 - val_accuracy: 0.6937\n",
      "Epoch 30/80\n",
      "1351/1351 [==============================] - 0s 127us/sample - loss: 0.5307 - accuracy: 0.7321 - val_loss: 0.5873 - val_accuracy: 0.6922\n",
      "Epoch 31/80\n",
      "1351/1351 [==============================] - 0s 129us/sample - loss: 0.5287 - accuracy: 0.7298 - val_loss: 0.5865 - val_accuracy: 0.6892\n",
      "Epoch 32/80\n",
      "1351/1351 [==============================] - 0s 127us/sample - loss: 0.5282 - accuracy: 0.7246 - val_loss: 0.5872 - val_accuracy: 0.6922\n",
      "Epoch 33/80\n",
      "1351/1351 [==============================] - 0s 130us/sample - loss: 0.5268 - accuracy: 0.7298 - val_loss: 0.5854 - val_accuracy: 0.6952\n",
      "Epoch 34/80\n",
      "1351/1351 [==============================] - 0s 127us/sample - loss: 0.5243 - accuracy: 0.7306 - val_loss: 0.5847 - val_accuracy: 0.6877\n",
      "Epoch 35/80\n",
      "1351/1351 [==============================] - 0s 130us/sample - loss: 0.5238 - accuracy: 0.7269 - val_loss: 0.5841 - val_accuracy: 0.6937\n",
      "Epoch 36/80\n",
      "1351/1351 [==============================] - 0s 128us/sample - loss: 0.5220 - accuracy: 0.7291 - val_loss: 0.5840 - val_accuracy: 0.6967\n",
      "Epoch 37/80\n",
      "1351/1351 [==============================] - 0s 128us/sample - loss: 0.5209 - accuracy: 0.7409 - val_loss: 0.5834 - val_accuracy: 0.6907\n",
      "Epoch 38/80\n",
      "1351/1351 [==============================] - 0s 124us/sample - loss: 0.5192 - accuracy: 0.7291 - val_loss: 0.5833 - val_accuracy: 0.6997\n",
      "Epoch 39/80\n",
      "1351/1351 [==============================] - 0s 126us/sample - loss: 0.5179 - accuracy: 0.7372 - val_loss: 0.5822 - val_accuracy: 0.6982\n",
      "Epoch 40/80\n",
      "1351/1351 [==============================] - 0s 131us/sample - loss: 0.5163 - accuracy: 0.7358 - val_loss: 0.5832 - val_accuracy: 0.6982\n",
      "Epoch 41/80\n",
      "1351/1351 [==============================] - 0s 131us/sample - loss: 0.5157 - accuracy: 0.7439 - val_loss: 0.5816 - val_accuracy: 0.7042\n",
      "Epoch 42/80\n",
      "1351/1351 [==============================] - 0s 128us/sample - loss: 0.5150 - accuracy: 0.7358 - val_loss: 0.5810 - val_accuracy: 0.6952\n",
      "Epoch 43/80\n",
      "1351/1351 [==============================] - 0s 128us/sample - loss: 0.5135 - accuracy: 0.7454 - val_loss: 0.5815 - val_accuracy: 0.7027\n",
      "Epoch 44/80\n",
      "1351/1351 [==============================] - 0s 126us/sample - loss: 0.5116 - accuracy: 0.7424 - val_loss: 0.5805 - val_accuracy: 0.6997\n",
      "Epoch 45/80\n",
      "1351/1351 [==============================] - 0s 123us/sample - loss: 0.5103 - accuracy: 0.7432 - val_loss: 0.5802 - val_accuracy: 0.7012\n",
      "Epoch 46/80\n",
      "1351/1351 [==============================] - 0s 130us/sample - loss: 0.5096 - accuracy: 0.7439 - val_loss: 0.5801 - val_accuracy: 0.6967\n",
      "Epoch 47/80\n",
      "1351/1351 [==============================] - 0s 128us/sample - loss: 0.5080 - accuracy: 0.7417 - val_loss: 0.5796 - val_accuracy: 0.6967\n",
      "Epoch 48/80\n",
      "1351/1351 [==============================] - 0s 130us/sample - loss: 0.5069 - accuracy: 0.7424 - val_loss: 0.5782 - val_accuracy: 0.7102\n",
      "Epoch 49/80\n",
      "1351/1351 [==============================] - 0s 126us/sample - loss: 0.5066 - accuracy: 0.7469 - val_loss: 0.5767 - val_accuracy: 0.7087\n",
      "Epoch 50/80\n",
      "1351/1351 [==============================] - 0s 129us/sample - loss: 0.5052 - accuracy: 0.7446 - val_loss: 0.5772 - val_accuracy: 0.6997\n",
      "Epoch 51/80\n",
      "1351/1351 [==============================] - 0s 134us/sample - loss: 0.5039 - accuracy: 0.7469 - val_loss: 0.5773 - val_accuracy: 0.7102\n",
      "Epoch 52/80\n",
      "1351/1351 [==============================] - 0s 129us/sample - loss: 0.5031 - accuracy: 0.7550 - val_loss: 0.5758 - val_accuracy: 0.7072\n",
      "Epoch 53/80\n",
      "1351/1351 [==============================] - 0s 134us/sample - loss: 0.5020 - accuracy: 0.7528 - val_loss: 0.5749 - val_accuracy: 0.7027\n",
      "Epoch 54/80\n",
      "1351/1351 [==============================] - 0s 131us/sample - loss: 0.5013 - accuracy: 0.7528 - val_loss: 0.5751 - val_accuracy: 0.7042\n",
      "Epoch 55/80\n",
      "1351/1351 [==============================] - 0s 132us/sample - loss: 0.5001 - accuracy: 0.7528 - val_loss: 0.5737 - val_accuracy: 0.7072\n",
      "Epoch 56/80\n",
      "1351/1351 [==============================] - 0s 133us/sample - loss: 0.4997 - accuracy: 0.7513 - val_loss: 0.5724 - val_accuracy: 0.7057\n",
      "Epoch 57/80\n",
      "1351/1351 [==============================] - 0s 130us/sample - loss: 0.4985 - accuracy: 0.7543 - val_loss: 0.5740 - val_accuracy: 0.7072\n",
      "Epoch 58/80\n",
      "1351/1351 [==============================] - 0s 131us/sample - loss: 0.4976 - accuracy: 0.7565 - val_loss: 0.5731 - val_accuracy: 0.7057\n",
      "Epoch 59/80\n",
      "1351/1351 [==============================] - 0s 131us/sample - loss: 0.4966 - accuracy: 0.7565 - val_loss: 0.5736 - val_accuracy: 0.7117\n",
      "Epoch 60/80\n",
      "1351/1351 [==============================] - 0s 132us/sample - loss: 0.4955 - accuracy: 0.7506 - val_loss: 0.5717 - val_accuracy: 0.7132\n",
      "Epoch 61/80\n",
      "1351/1351 [==============================] - 0s 129us/sample - loss: 0.4961 - accuracy: 0.7520 - val_loss: 0.5722 - val_accuracy: 0.7147\n",
      "Epoch 62/80\n",
      "1351/1351 [==============================] - 0s 137us/sample - loss: 0.4943 - accuracy: 0.7594 - val_loss: 0.5717 - val_accuracy: 0.7117\n",
      "Epoch 63/80\n",
      "1351/1351 [==============================] - 0s 134us/sample - loss: 0.4939 - accuracy: 0.7580 - val_loss: 0.5732 - val_accuracy: 0.7102\n",
      "Epoch 64/80\n",
      "1351/1351 [==============================] - 0s 132us/sample - loss: 0.4927 - accuracy: 0.7587 - val_loss: 0.5714 - val_accuracy: 0.7132\n",
      "Epoch 65/80\n",
      "1351/1351 [==============================] - 0s 131us/sample - loss: 0.4918 - accuracy: 0.7654 - val_loss: 0.5720 - val_accuracy: 0.7132\n",
      "Epoch 66/80\n",
      "1351/1351 [==============================] - 0s 129us/sample - loss: 0.4910 - accuracy: 0.7617 - val_loss: 0.5717 - val_accuracy: 0.7102\n",
      "Epoch 67/80\n",
      "1351/1351 [==============================] - 0s 138us/sample - loss: 0.4917 - accuracy: 0.7572 - val_loss: 0.5718 - val_accuracy: 0.7162\n",
      "Epoch 68/80\n",
      "1351/1351 [==============================] - 0s 139us/sample - loss: 0.4904 - accuracy: 0.7654 - val_loss: 0.5718 - val_accuracy: 0.7102\n",
      "Epoch 69/80\n",
      "1351/1351 [==============================] - 0s 128us/sample - loss: 0.4897 - accuracy: 0.7617 - val_loss: 0.5699 - val_accuracy: 0.7147\n",
      "Epoch 70/80\n",
      "1351/1351 [==============================] - 0s 128us/sample - loss: 0.4883 - accuracy: 0.7646 - val_loss: 0.5718 - val_accuracy: 0.7117\n",
      "Epoch 71/80\n",
      "1351/1351 [==============================] - 0s 124us/sample - loss: 0.4883 - accuracy: 0.7676 - val_loss: 0.5712 - val_accuracy: 0.7057\n",
      "Epoch 72/80\n",
      "1351/1351 [==============================] - 0s 125us/sample - loss: 0.4884 - accuracy: 0.7661 - val_loss: 0.5717 - val_accuracy: 0.7147\n",
      "Epoch 73/80\n",
      "1351/1351 [==============================] - 0s 129us/sample - loss: 0.4866 - accuracy: 0.7654 - val_loss: 0.5704 - val_accuracy: 0.7132\n",
      "Epoch 74/80\n",
      "1351/1351 [==============================] - 0s 128us/sample - loss: 0.4862 - accuracy: 0.7661 - val_loss: 0.5705 - val_accuracy: 0.7162\n",
      "Epoch 75/80\n",
      "1351/1351 [==============================] - 0s 131us/sample - loss: 0.4852 - accuracy: 0.7691 - val_loss: 0.5708 - val_accuracy: 0.7132\n",
      "Epoch 76/80\n",
      "1351/1351 [==============================] - 0s 151us/sample - loss: 0.4853 - accuracy: 0.7631 - val_loss: 0.5695 - val_accuracy: 0.7162\n",
      "Epoch 77/80\n",
      "1351/1351 [==============================] - 0s 163us/sample - loss: 0.4852 - accuracy: 0.7639 - val_loss: 0.5689 - val_accuracy: 0.7147\n",
      "Epoch 78/80\n",
      "1351/1351 [==============================] - 0s 140us/sample - loss: 0.4840 - accuracy: 0.7654 - val_loss: 0.5681 - val_accuracy: 0.7147\n",
      "Epoch 79/80\n",
      "1351/1351 [==============================] - 0s 133us/sample - loss: 0.4826 - accuracy: 0.7683 - val_loss: 0.5677 - val_accuracy: 0.7192\n",
      "Epoch 80/80\n",
      "1351/1351 [==============================] - 0s 140us/sample - loss: 0.4816 - accuracy: 0.7713 - val_loss: 0.5696 - val_accuracy: 0.7162\n"
     ]
    }
   ],
   "source": [
    "model = tf.keras.models.Sequential()\n",
    "model.add(tf.keras.layers.Dense(11 , activation = tf.keras.activations.relu))\n",
    "#model.add(tf.keras.layers.Dense(20 , activation = tf.keras.activations.relu))\n",
    "model.add(tf.keras.layers.Dense(15 , activation = tf.keras.activations.relu))\n",
    "model.add(tf.keras.layers.Dense(1 , activation = tf.keras.activations.sigmoid))\n",
    "\n",
    "model.compile(optimizer = 'adam' ,\n",
    "             loss = 'binary_crossentropy',\n",
    "             metrics = ['accuracy'])\n",
    "\n",
    "history = model.fit(X_train,Y_train,epochs = 80, validation_data=(X_test, Y_test), verbose = 1)\n",
    "finalAccuracy = history.history['accuracy'][-1]\n",
    "\n",
    "train_loss = history.history['loss']\n",
    "test_loss = history.history['val_loss']\n",
    "train_accuracy = history.history['accuracy']\n",
    "test_accuracy = history.history['val_accuracy']\n",
    "\n",
    "epoch_count = range(1, len(train_loss) + 1)\n"
   ]
  },
  {
   "cell_type": "code",
   "execution_count": 74,
   "metadata": {},
   "outputs": [
    {
     "data": {
      "image/png": "[encoded data removed]",
      "text/plain": [
       "<Figure size 720x504 with 1 Axes>"
      ]
     },
     "metadata": {
      "needs_background": "light"
     },
     "output_type": "display_data"
    }
   ],
   "source": [
    "#Plotting Loss and Accuracy\n",
    "plt.figure(figsize = (10,7))\n",
    "plt.plot(epoch_count, train_loss, 'r--')\n",
    "plt.plot(epoch_count, test_loss, 'b-')\n",
    "plt.plot(epoch_count , train_accuracy , 'g--')\n",
    "plt.plot(epoch_count , test_accuracy , 'm--')\n",
    "plt.legend(['Training Loss', 'Test Loss', 'Traning Accuracy' , 'Test Accuracy'])\n",
    "plt.xlabel('Epoch')\n",
    "plt.ylabel('Loss')\n",
    "plt.title('Loss during training')\n",
    "plt.show();"
   ]
  },
  {
   "cell_type": "code",
   "execution_count": 75,
   "metadata": {
    "scrolled": true
   },
   "outputs": [
    {
     "data": {
      "text/plain": [
       "0.7712805"
      ]
     },
     "execution_count": 75,
     "metadata": {},
     "output_type": "execute_result"
    }
   ],
   "source": [
    "finalAccuracy"
   ]
  },
  {
   "cell_type": "code",
   "execution_count": 76,
   "metadata": {
    "scrolled": true
   },
   "outputs": [],
   "source": [
    "df_history = pd.DataFrame(history.history)"
   ]
  },
  {
   "cell_type": "code",
   "execution_count": 77,
   "metadata": {},
   "outputs": [
    {
     "data": {
      "text/html": [
       "<div>\n",
       "<style scoped>\n",
       "    .dataframe tbody tr th:only-of-type {\n",
       "        vertical-align: middle;\n",
       "    }\n",
       "\n",
       "    .dataframe tbody tr th {\n",
       "        vertical-align: top;\n",
       "    }\n",
       "\n",
       "    .dataframe thead th {\n",
       "        text-align: right;\n",
       "    }\n",
       "</style>\n",
       "<table border=\"1\" class=\"dataframe\">\n",
       "  <thead>\n",
       "    <tr style=\"text-align: right;\">\n",
       "      <th></th>\n",
       "      <th>loss</th>\n",
       "      <th>accuracy</th>\n",
       "      <th>val_loss</th>\n",
       "      <th>val_accuracy</th>\n",
       "    </tr>\n",
       "  </thead>\n",
       "  <tbody>\n",
       "    <tr>\n",
       "      <th>79</th>\n",
       "      <td>0.4816</td>\n",
       "      <td>0.771281</td>\n",
       "      <td>0.569595</td>\n",
       "      <td>0.716216</td>\n",
       "    </tr>\n",
       "  </tbody>\n",
       "</table>\n",
       "</div>"
      ],
      "text/plain": [
       "      loss  accuracy  val_loss  val_accuracy\n",
       "79  0.4816  0.771281  0.569595      0.716216"
      ]
     },
     "execution_count": 77,
     "metadata": {},
     "output_type": "execute_result"
    }
   ],
   "source": [
    "df_history.tail(1)"
   ]
  },
  {
   "cell_type": "code",
   "execution_count": 78,
   "metadata": {},
   "outputs": [
    {
     "data": {
      "image/png": "[encoded data removed]",
      "text/plain": [
       "<Figure size 720x504 with 1 Axes>"
      ]
     },
     "metadata": {
      "needs_background": "light"
     },
     "output_type": "display_data"
    }
   ],
   "source": [
    "plt.figure(figsize = (10,7))\n",
    "#plt.plot(range(len(Y_test)) , Y_test)\n",
    "#plt.plot(range(len(Y_test)) , model.predict(X_test))\n",
    "plt.hist(Y_test)\n",
    "plt.hist(model.predict(X_test))\n",
    "plt.show()"
   ]
  },
  {
   "cell_type": "code",
   "execution_count": null,
   "metadata": {},
   "outputs": [],
   "source": []
  }
 ],
 "metadata": {
  "kernelspec": {
   "display_name": "Python 3",
   "language": "python",
   "name": "python3"
  },
  "language_info": {
   "codemirror_mode": {
    "name": "ipython",
    "version": 3
   },
   "file_extension": ".py",
   "mimetype": "text/x-python",
   "name": "python",
   "nbconvert_exporter": "python",
   "pygments_lexer": "ipython3",
   "version": "3.6.8"
  },
  "output_auto_scroll": true
 },
 "nbformat": 4,
 "nbformat_minor": 4
}
